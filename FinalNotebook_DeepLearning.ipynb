{
 "cells": [
  {
   "cell_type": "markdown",
   "id": "7193555c",
   "metadata": {},
   "source": [
    "# Libraries"
   ]
  },
  {
   "cell_type": "code",
   "execution_count": 1,
   "id": "9c48f9d3",
   "metadata": {},
   "outputs": [],
   "source": [
    "import numpy as np\n",
    "import tensorflow as tf\n",
    "import keras\n",
    "import cv2\n",
    "from keras.models import Sequential\n",
    "from tensorflow.keras.utils import img_to_array\n",
    "import os\n",
    "from tqdm import tqdm\n",
    "import re\n",
    "import matplotlib as plt\n",
    "from keras import backend as K\n",
    "from tensorflow.keras.layers import Conv2D, BatchNormalization, Activation, MaxPool2D, Conv2DTranspose, Concatenate, Input\n",
    "from tensorflow.keras.models import Model"
   ]
  },
  {
   "cell_type": "code",
   "execution_count": 45,
   "id": "14c7aab0",
   "metadata": {},
   "outputs": [
    {
     "name": "stderr",
     "output_type": "stream",
     "text": [
      "100%|████████████████████████████████████████| 855/855 [00:02<00:00, 349.93it/s]\n",
      "100%|████████████████████████████████████████| 855/855 [00:03<00:00, 267.53it/s]\n"
     ]
    }
   ],
   "source": [
    "def sorted_alphanumeric(data):  \n",
    "    convert = lambda text: int(text) if text.isdigit() else text.lower() #lowercase\n",
    "    alphanum_key = lambda key: [convert(c) for c in re.split('([0-9]+)',key)] \n",
    "    return sorted(data,key = alphanum_key)\n",
    "\n",
    "# defining the size of the image\n",
    "SIZE = 512\n",
    "high_img = []\n",
    "path = 'dataset/train/high_res/'\n",
    "path2 = 'dataset/val/high_res/'\n",
    "files = os.listdir(path)\n",
    "files.extend(os.listdir(path2))\n",
    "files = sorted_alphanumeric(files)\n",
    "for i in tqdm(files):    \n",
    "    if i == '855.jpg':\n",
    "        break\n",
    "    else:    \n",
    "        img = cv2.imread(path + '/'+i,1)\n",
    "        # open cv reads images in BGR format so we have to convert it to RGB\n",
    "        \n",
    "        img = cv2.cvtColor(img, cv2.COLOR_BGR2RGB)\n",
    "        #resizing image\n",
    "        img = cv2.resize(img, (SIZE, SIZE))\n",
    "        img = img.astype('float32') / 255.0\n",
    "        high_img.append(img_to_array(img))\n",
    "\n",
    "\n",
    "low_img = []\n",
    "path = 'dataset/train/low_res/'\n",
    "path2 = 'dataset/val/low_res/'\n",
    "files = os.listdir(path)\n",
    "files.extend(os.listdir(path2))\n",
    "\n",
    "files = sorted_alphanumeric(files)\n",
    "for i in tqdm(files):\n",
    "     if i == '855.jpg':\n",
    "        break\n",
    "     else: \n",
    "        img = cv2.imread(path + '/'+i,1)\n",
    "\n",
    "        #resizing image\n",
    "     \n",
    "        img = cv2.resize(img, (SIZE, SIZE))\n",
    "        img = img.astype('float32') / 255.0\n",
    "        low_img.append(img_to_array(img))"
   ]
  },
  {
   "cell_type": "markdown",
   "id": "47809d76",
   "metadata": {},
   "source": [
    "# Plotting PSNR and SSIM Metrics"
   ]
  },
  {
   "cell_type": "code",
   "execution_count": 46,
   "id": "33a7308c",
   "metadata": {},
   "outputs": [],
   "source": [
    "def PSNR(y_true, y_pred):\n",
    "    max_pixel = 1.0\n",
    "    return (10.0 * K.log((max_pixel ** 2) / (K.mean(K.square(y_pred - y_true), axis=-1)))) / 2.303\n",
    "\n",
    "def SSIM(y_true, y_pred):\n",
    "    return tf.reduce_mean(tf.image.ssim(y_true, y_pred, 2.0))\n",
    "def pixel_mse_loss(x,y):\n",
    "    return tf.reduce_mean( (x - y) ** 2 )\n",
    "\n",
    "def model_train_plot(history):\n",
    "    \n",
    "    \n",
    "    plt.plot(history.history['accuracy'])\n",
    "    plt.plot(history.history['val_accuracy'])\n",
    "    plt.title('model accuracy')\n",
    "    plt.ylabel('accuracy')\n",
    "    plt.xlabel('epoch')\n",
    "    plt.legend(['train', 'test'], loc='upper left')\n",
    "    plt.show()\n",
    "\n",
    "    \n",
    "\n",
    "    plt.plot(history.history['SSIM'])\n",
    "    plt.plot(history.history['val_SSIM'])\n",
    "    plt.title('model SSIM')\n",
    "    plt.ylabel('SSIM')\n",
    "    plt.xlabel('epoch')\n",
    "    plt.legend(['train', 'test'], loc='upper left')\n",
    "    plt.show()\n",
    "    \n",
    "    plt.plot(history.history['PSNR'])\n",
    "    plt.plot(history.history['val_PSNR'])\n",
    "    plt.title('model PSNR')\n",
    "    plt.ylabel('PSNR')\n",
    "    plt.xlabel('epoch')\n",
    "    plt.legend(['train', 'test'], loc='upper left')\n",
    "    plt.show()\n",
    "\n",
    "    # summarize history for loss\n",
    "    plt.plot(history.history['loss'])\n",
    "    plt.plot(history.history['val_loss'])\n",
    "    plt.title('model loss')\n",
    "    plt.ylabel('loss')\n",
    "    plt.xlabel('epoch')\n",
    "    plt.legend(['train', 'test'], loc='upper left')\n",
    "    plt.show()"
   ]
  },
  {
   "cell_type": "code",
   "execution_count": 47,
   "id": "7c7e0ce4",
   "metadata": {},
   "outputs": [
    {
     "name": "stdout",
     "output_type": "stream",
     "text": [
      "Shape of training images: (700, 512, 512, 3)\n",
      "Shape of test images: (15, 512, 512, 3)\n",
      "Shape of validation images: (140, 512, 512, 3)\n"
     ]
    }
   ],
   "source": [
    "train_high_image = high_img[:700]\n",
    "train_low_image = low_img[:700]\n",
    "train_high_image = np.reshape(train_high_image,(len(train_high_image),SIZE,SIZE,3))\n",
    "train_low_image = np.reshape(train_low_image,(len(train_low_image),SIZE,SIZE,3))\n",
    "\n",
    "validation_high_image = high_img[700:840]\n",
    "validation_low_image = low_img[700:840]\n",
    "validation_high_image= np.reshape(validation_high_image,(len(validation_high_image),SIZE,SIZE,3))\n",
    "validation_low_image = np.reshape(validation_low_image,(len(validation_low_image),SIZE,SIZE,3))\n",
    "\n",
    "\n",
    "test_high_image = high_img[840:]\n",
    "test_low_image = low_img[840:]\n",
    "test_high_image= np.reshape(test_high_image,(len(test_high_image),SIZE,SIZE,3)) #(number of obvs,size,size,Color dimention)\n",
    "test_low_image = np.reshape(test_low_image,(len(test_low_image),SIZE,SIZE,3))\n",
    "\n",
    "print(\"Shape of training images:\",train_high_image.shape)\n",
    "print(\"Shape of test images:\",test_high_image.shape)\n",
    "print(\"Shape of validation images:\",validation_high_image.shape)"
   ]
  },
  {
   "cell_type": "code",
   "execution_count": 48,
   "id": "2bf9a04f",
   "metadata": {},
   "outputs": [],
   "source": [
    "def plot_images(high,low,predicted):\n",
    "    plt.figure(figsize=(15,15))\n",
    "    plt.subplot(1,3,1)\n",
    "    plt.title('High Image', color = 'green', fontsize = 20)\n",
    "    plt.imshow(high)\n",
    "    plt.subplot(1,3,2)\n",
    "    plt.title('Low Image ', color = 'black', fontsize = 20)\n",
    "    plt.imshow(low)\n",
    "    plt.subplot(1,3,3)\n",
    "    plt.title('Predicted Image ', color = 'Red', fontsize = 20)\n",
    "    plt.imshow(predicted)\n",
    "   \n",
    "    plt.show()"
   ]
  },
  {
   "cell_type": "markdown",
   "id": "1c03b51b",
   "metadata": {},
   "source": [
    "# Models - baseline"
   ]
  },
  {
   "cell_type": "code",
   "execution_count": null,
   "id": "844808b2",
   "metadata": {},
   "outputs": [],
   "source": [
    "# test harness for evaluating models on the cifar10 dataset\n",
    "import sys\n",
    "from matplotlib import pyplot\n",
    "from keras.datasets import cifar10\n",
    "from keras.utils import to_categorical\n",
    "from keras.models import Sequential\n",
    "from keras.layers import Conv2D\n",
    "from keras.layers import MaxPooling2D\n",
    "from keras.layers import Dense\n",
    "from keras.layers import Flatten\n",
    "from keras.optimizers import SGD\n",
    "model = Sequential()\n",
    "model.add(Conv2D(32, (3, 3), activation='relu', kernel_initializer='he_uniform', padding='same', input_shape=(512, 512, 3)))\n",
    "model.add(Conv2D(64, (3, 3), activation='relu', kernel_initializer='he_uniform', padding='same'))\n",
    "model.add(MaxPooling2D((2, 2)))\n",
    "model.add(Conv2D(16, (3, 3), activation='relu', kernel_initializer='he_uniform', padding='same'))\n",
    "model.add(Conv2D(64, (3, 3), activation='relu', kernel_initializer='he_uniform', padding='same'))\n",
    "model.add(MaxPooling2D((2, 2)))\n",
    "model.add(Conv2D(32, (3, 3), activation='relu', kernel_initializer='he_uniform', padding='same'))\n",
    "model.add(Conv2D(128, (3, 3), activation='relu', kernel_initializer='he_uniform', padding='same'))\n",
    "model.add(MaxPooling2D((2, 2)))\n",
    "model.add(Conv2D(64, (3, 3), activation='relu', kernel_initializer='he_uniform', padding='same'))\n",
    "model.add(Conv2D(128, (3, 3), activation='relu', kernel_initializer='he_uniform', padding='same'))\n",
    "model.add(MaxPooling2D((2, 2)))\n",
    "model.add(Conv2D(128, (3, 3), activation='relu', kernel_initializer='he_uniform', padding='same'))\n",
    "model.add(Conv2D(128, (3, 3), activation='relu', kernel_initializer='he_uniform', padding='same'))\n",
    "model.add(MaxPooling2D((2, 2)))\n",
    "model.add(Conv2DTranspose(3, (2, 2),strides = 2))\n",
    "model.add(Conv2DTranspose(64, (2, 2),strides = 2))\n",
    "model.add(Conv2DTranspose(64, (2, 2),strides = 2))\n",
    "model.add(Conv2DTranspose(64, (2, 2),strides = 2))\n",
    "model.add(Conv2DTranspose(3, (2, 2),strides = 2))\n",
    "\n"
   ]
  },
  {
   "cell_type": "code",
   "execution_count": 49,
   "id": "c8f82940",
   "metadata": {},
   "outputs": [],
   "source": [
    "\n",
    "\n",
    "model.summary()\n"
   ]
  },
  {
   "cell_type": "code",
   "execution_count": null,
   "id": "7e2130ce",
   "metadata": {},
   "outputs": [],
   "source": [
    "model.compile(optimizer = tf.keras.optimizers.Adam(learning_rate = 0.001), loss = 'mean_absolute_error',\n",
    "              metrics = ['acc',PSNR, SSIM])\n",
    "earlystop_callback = tf.keras.callbacks.EarlyStopping(monitor='loss', patience=20)\n",
    "history = model.fit(train_low_image, train_high_image, epochs = 20, batch_size = 16,callbacks=[earlystop_callback],\n",
    "          validation_data = (validation_low_image,validation_high_image))"
   ]
  },
  {
   "cell_type": "code",
   "execution_count": 51,
   "id": "5b0f10f9",
   "metadata": {},
   "outputs": [],
   "source": [
    "# test harness for evaluating models on the cifar10 dataset\n",
    "import sys\n",
    "from matplotlib import pyplot\n",
    "from keras.datasets import cifar10\n",
    "from keras.utils import to_categorical\n",
    "from keras.models import Sequential\n",
    "from keras.layers import Conv2D\n",
    "from keras.layers import MaxPooling2D\n",
    "from keras.layers import Dense\n",
    "from keras.layers import Flatten\n",
    "from keras.optimizers import SGD\n",
    "model = Sequential()\n",
    "model.add(Conv2D(32, (3, 3), activation='relu', kernel_initializer='he_uniform', padding='same', input_shape=(512, 512, 3)))\n",
    "model.add(Conv2D(64, (3, 3), activation='relu', kernel_initializer='he_uniform', padding='same'))\n",
    "model.add(MaxPooling2D((2, 2)))\n",
    "\n",
    "model.add(Conv2DTranspose(3, (2, 2),strides = 2))"
   ]
  },
  {
   "cell_type": "code",
   "execution_count": 52,
   "id": "2caa6c1d",
   "metadata": {},
   "outputs": [
    {
     "name": "stdout",
     "output_type": "stream",
     "text": [
      "Model: \"sequential_26\"\n",
      "_________________________________________________________________\n",
      " Layer (type)                Output Shape              Param #   \n",
      "=================================================================\n",
      " conv2d_56 (Conv2D)          (None, 512, 512, 32)      896       \n",
      "                                                                 \n",
      " conv2d_57 (Conv2D)          (None, 512, 512, 64)      18496     \n",
      "                                                                 \n",
      " max_pooling2d_16 (MaxPoolin  (None, 256, 256, 64)     0         \n",
      " g2D)                                                            \n",
      "                                                                 \n",
      " conv2d_58 (Conv2D)          (None, 256, 256, 16)      9232      \n",
      "                                                                 \n",
      " conv2d_59 (Conv2D)          (None, 256, 256, 64)      9280      \n",
      "                                                                 \n",
      " max_pooling2d_17 (MaxPoolin  (None, 128, 128, 64)     0         \n",
      " g2D)                                                            \n",
      "                                                                 \n",
      " conv2d_60 (Conv2D)          (None, 128, 128, 32)      18464     \n",
      "                                                                 \n",
      " conv2d_61 (Conv2D)          (None, 128, 128, 128)     36992     \n",
      "                                                                 \n",
      " max_pooling2d_18 (MaxPoolin  (None, 64, 64, 128)      0         \n",
      " g2D)                                                            \n",
      "                                                                 \n",
      " conv2d_62 (Conv2D)          (None, 64, 64, 64)        73792     \n",
      "                                                                 \n",
      " conv2d_63 (Conv2D)          (None, 64, 64, 128)       73856     \n",
      "                                                                 \n",
      " max_pooling2d_19 (MaxPoolin  (None, 32, 32, 128)      0         \n",
      " g2D)                                                            \n",
      "                                                                 \n",
      " conv2d_64 (Conv2D)          (None, 32, 32, 128)       147584    \n",
      "                                                                 \n",
      " conv2d_65 (Conv2D)          (None, 32, 32, 128)       147584    \n",
      "                                                                 \n",
      " max_pooling2d_20 (MaxPoolin  (None, 16, 16, 128)      0         \n",
      " g2D)                                                            \n",
      "                                                                 \n",
      " conv2d_transpose_27 (Conv2D  (None, 32, 32, 3)        1539      \n",
      " Transpose)                                                      \n",
      "                                                                 \n",
      " conv2d_transpose_28 (Conv2D  (None, 64, 64, 64)       832       \n",
      " Transpose)                                                      \n",
      "                                                                 \n",
      " conv2d_transpose_29 (Conv2D  (None, 128, 128, 64)     16448     \n",
      " Transpose)                                                      \n",
      "                                                                 \n",
      " conv2d_transpose_30 (Conv2D  (None, 256, 256, 64)     16448     \n",
      " Transpose)                                                      \n",
      "                                                                 \n",
      " conv2d_transpose_31 (Conv2D  (None, 512, 512, 3)      771       \n",
      " Transpose)                                                      \n",
      "                                                                 \n",
      "=================================================================\n",
      "Total params: 572,214\n",
      "Trainable params: 572,214\n",
      "Non-trainable params: 0\n",
      "_________________________________________________________________\n"
     ]
    }
   ],
   "source": [
    "mode.summary()"
   ]
  },
  {
   "cell_type": "code",
   "execution_count": 42,
   "id": "5b6577ef",
   "metadata": {},
   "outputs": [
    {
     "name": "stdout",
     "output_type": "stream",
     "text": [
      "Epoch 1/20\n"
     ]
    },
    {
     "name": "stderr",
     "output_type": "stream",
     "text": [
      "2023-04-17 21:37:12.590733: I tensorflow/core/grappler/optimizers/custom_graph_optimizer_registry.cc:114] Plugin optimizer for device_type GPU is enabled.\n"
     ]
    },
    {
     "name": "stdout",
     "output_type": "stream",
     "text": [
      "44/44 [==============================] - ETA: 0s - loss: 0.1073 - acc: 0.5037 - PSNR: inf - SSIM: 0.5793"
     ]
    },
    {
     "name": "stderr",
     "output_type": "stream",
     "text": [
      "2023-04-17 21:37:41.602682: I tensorflow/core/grappler/optimizers/custom_graph_optimizer_registry.cc:114] Plugin optimizer for device_type GPU is enabled.\n"
     ]
    },
    {
     "name": "stdout",
     "output_type": "stream",
     "text": [
      "44/44 [==============================] - 32s 697ms/step - loss: 0.1073 - acc: 0.5037 - PSNR: inf - SSIM: 0.5793 - val_loss: 0.0347 - val_acc: 0.7262 - val_PSNR: 31.1508 - val_SSIM: 0.8056\n",
      "Epoch 2/20\n",
      "44/44 [==============================] - 29s 643ms/step - loss: 0.0257 - acc: 0.7835 - PSNR: 34.8105 - SSIM: 0.8860 - val_loss: 0.0242 - val_acc: 0.7770 - val_PSNR: 35.9754 - val_SSIM: 0.9007\n",
      "Epoch 3/20\n",
      "44/44 [==============================] - 29s 648ms/step - loss: 0.0225 - acc: 0.8094 - PSNR: 36.4884 - SSIM: 0.9118 - val_loss: 0.0222 - val_acc: 0.7819 - val_PSNR: 36.4617 - val_SSIM: 0.9119\n",
      "Epoch 4/20\n",
      "44/44 [==============================] - 29s 649ms/step - loss: 0.0215 - acc: 0.8133 - PSNR: 36.7638 - SSIM: 0.9170 - val_loss: 0.0218 - val_acc: 0.8193 - val_PSNR: 36.6707 - val_SSIM: 0.9103\n",
      "Epoch 5/20\n",
      "44/44 [==============================] - 29s 657ms/step - loss: 0.0197 - acc: 0.8293 - PSNR: 37.8033 - SSIM: 0.9277 - val_loss: 0.0195 - val_acc: 0.7991 - val_PSNR: 37.8661 - val_SSIM: 0.9299\n",
      "Epoch 6/20\n",
      "44/44 [==============================] - 30s 671ms/step - loss: 0.0185 - acc: 0.8281 - PSNR: 38.4000 - SSIM: 0.9349 - val_loss: 0.0184 - val_acc: 0.8091 - val_PSNR: 38.5847 - val_SSIM: 0.9341\n",
      "Epoch 7/20\n",
      "44/44 [==============================] - 29s 659ms/step - loss: 0.0177 - acc: 0.8335 - PSNR: 38.5085 - SSIM: 0.9373 - val_loss: 0.0175 - val_acc: 0.8268 - val_PSNR: 38.8165 - val_SSIM: 0.9364\n",
      "Epoch 8/20\n",
      "44/44 [==============================] - 29s 657ms/step - loss: 0.0170 - acc: 0.8422 - PSNR: 38.8945 - SSIM: 0.9430 - val_loss: 0.0162 - val_acc: 0.8574 - val_PSNR: 39.8913 - val_SSIM: 0.9426\n",
      "Epoch 9/20\n",
      "44/44 [==============================] - 29s 650ms/step - loss: 0.0164 - acc: 0.8385 - PSNR: 39.0802 - SSIM: 0.9431 - val_loss: 0.0170 - val_acc: 0.8281 - val_PSNR: 38.8352 - val_SSIM: 0.9446\n",
      "Epoch 10/20\n",
      "44/44 [==============================] - 29s 663ms/step - loss: 0.0161 - acc: 0.8445 - PSNR: 39.3295 - SSIM: 0.9457 - val_loss: 0.0170 - val_acc: 0.8000 - val_PSNR: 38.2684 - val_SSIM: 0.9438\n",
      "Epoch 11/20\n",
      "44/44 [==============================] - 30s 670ms/step - loss: 0.0153 - acc: 0.8530 - PSNR: 40.0778 - SSIM: 0.9484 - val_loss: 0.0158 - val_acc: 0.8408 - val_PSNR: 39.5589 - val_SSIM: 0.9450\n",
      "Epoch 12/20\n",
      "44/44 [==============================] - 29s 662ms/step - loss: 0.0158 - acc: 0.8429 - PSNR: 39.5635 - SSIM: 0.9472 - val_loss: 0.0167 - val_acc: 0.8330 - val_PSNR: 38.4522 - val_SSIM: 0.9423\n",
      "Epoch 13/20\n",
      "44/44 [==============================] - 29s 653ms/step - loss: 0.0156 - acc: 0.8427 - PSNR: 39.6286 - SSIM: 0.9482 - val_loss: 0.0152 - val_acc: 0.8320 - val_PSNR: 40.3506 - val_SSIM: 0.9478\n",
      "Epoch 14/20\n",
      "44/44 [==============================] - 29s 662ms/step - loss: 0.0150 - acc: 0.8481 - PSNR: 40.3305 - SSIM: 0.9493 - val_loss: 0.0156 - val_acc: 0.8090 - val_PSNR: 39.3972 - val_SSIM: 0.9448\n",
      "Epoch 15/20\n",
      "44/44 [==============================] - 29s 661ms/step - loss: 0.0160 - acc: 0.8325 - PSNR: 39.1117 - SSIM: 0.9454 - val_loss: 0.0152 - val_acc: 0.8262 - val_PSNR: 40.2764 - val_SSIM: 0.9480\n",
      "Epoch 16/20\n",
      "44/44 [==============================] - 29s 660ms/step - loss: 0.0156 - acc: 0.8371 - PSNR: 39.4924 - SSIM: 0.9467 - val_loss: 0.0154 - val_acc: 0.8548 - val_PSNR: 39.9402 - val_SSIM: 0.9492\n",
      "Epoch 17/20\n",
      "44/44 [==============================] - 29s 654ms/step - loss: 0.0157 - acc: 0.8540 - PSNR: 39.6079 - SSIM: 0.9509 - val_loss: 0.0152 - val_acc: 0.8680 - val_PSNR: 40.2410 - val_SSIM: 0.9501\n",
      "Epoch 18/20\n",
      "44/44 [==============================] - 29s 660ms/step - loss: 0.0145 - acc: 0.8586 - PSNR: 40.9407 - SSIM: 0.9525 - val_loss: 0.0146 - val_acc: 0.8915 - val_PSNR: 40.8720 - val_SSIM: 0.9508\n",
      "Epoch 19/20\n",
      "44/44 [==============================] - 29s 652ms/step - loss: 0.0149 - acc: 0.8539 - PSNR: 40.1996 - SSIM: 0.9514 - val_loss: 0.0148 - val_acc: 0.8366 - val_PSNR: 40.4599 - val_SSIM: 0.9488\n",
      "Epoch 20/20\n",
      "44/44 [==============================] - 29s 653ms/step - loss: 0.0147 - acc: 0.8522 - PSNR: 40.5588 - SSIM: 0.9521 - val_loss: 0.0148 - val_acc: 0.8531 - val_PSNR: 40.6126 - val_SSIM: 0.9496\n"
     ]
    }
   ],
   "source": [
    "model.compile(optimizer = tf.keras.optimizers.Adam(learning_rate = 0.001), loss = 'mean_absolute_error',\n",
    "              metrics = ['acc',PSNR, SSIM])\n",
    "earlystop_callback = tf.keras.callbacks.EarlyStopping(monitor='loss', patience=20)\n",
    "history = model.fit(train_low_image, train_high_image, epochs = 20, batch_size = 16,callbacks=[earlystop_callback],\n",
    "          validation_data = (validation_low_image,validation_high_image))"
   ]
  },
  {
   "cell_type": "code",
   "execution_count": 43,
   "id": "dc4b3417",
   "metadata": {},
   "outputs": [],
   "source": [
    "model.save(\"baseline-simple-val-best.h5\")\n",
    "import pickle \n",
    "\n",
    "with open('baseline-simple-val-best.pkl','wb') as handle:\n",
    "    pickle.dump(history.history,handle)\n"
   ]
  },
  {
   "cell_type": "code",
   "execution_count": 34,
   "id": "558ccff3",
   "metadata": {},
   "outputs": [],
   "source": [
    "with open('baseline.pkl','rb') as handle:\n",
    "    history = pickle.load(handle)"
   ]
  },
  {
   "cell_type": "markdown",
   "id": "8b724af6",
   "metadata": {},
   "source": [
    "# Models - Concatenation"
   ]
  },
  {
   "cell_type": "code",
   "execution_count": 28,
   "id": "b733d4b8",
   "metadata": {},
   "outputs": [
    {
     "name": "stdout",
     "output_type": "stream",
     "text": [
      "Model: \"model_1\"\n",
      "__________________________________________________________________________________________________\n",
      " Layer (type)                   Output Shape         Param #     Connected to                     \n",
      "==================================================================================================\n",
      " input_2 (InputLayer)           [(None, 512, 512, 3  0           []                               \n",
      "                                )]                                                                \n",
      "                                                                                                  \n",
      " sequential_14 (Sequential)     (None, 256, 256, 12  3584        ['input_2[0][0]']                \n",
      "                                8)                                                                \n",
      "                                                                                                  \n",
      " sequential_15 (Sequential)     (None, 128, 128, 12  147584      ['sequential_14[0][0]']          \n",
      "                                8)                                                                \n",
      "                                                                                                  \n",
      " sequential_16 (Sequential)     (None, 64, 64, 256)  296192      ['sequential_15[0][0]']          \n",
      "                                                                                                  \n",
      " sequential_17 (Sequential)     (None, 32, 32, 512)  1182208     ['sequential_16[0][0]']          \n",
      "                                                                                                  \n",
      " sequential_18 (Sequential)     (None, 16, 16, 512)  2361856     ['sequential_17[0][0]']          \n",
      "                                                                                                  \n",
      " sequential_19 (Sequential)     (None, 32, 32, 512)  2359808     ['sequential_18[0][0]']          \n",
      "                                                                                                  \n",
      " concatenate_6 (Concatenate)    (None, 32, 32, 1024  0           ['sequential_19[0][0]',          \n",
      "                                )                                 'sequential_17[0][0]']          \n",
      "                                                                                                  \n",
      " sequential_20 (Sequential)     (None, 64, 64, 256)  2359552     ['concatenate_6[0][0]']          \n",
      "                                                                                                  \n",
      " concatenate_7 (Concatenate)    (None, 64, 64, 512)  0           ['sequential_20[0][0]',          \n",
      "                                                                  'sequential_16[0][0]']          \n",
      "                                                                                                  \n",
      " sequential_21 (Sequential)     (None, 128, 128, 12  589952      ['concatenate_7[0][0]']          \n",
      "                                8)                                                                \n",
      "                                                                                                  \n",
      " concatenate_8 (Concatenate)    (None, 128, 128, 25  0           ['sequential_21[0][0]',          \n",
      "                                6)                                'sequential_15[0][0]']          \n",
      "                                                                                                  \n",
      " sequential_22 (Sequential)     (None, 256, 256, 12  295040      ['concatenate_8[0][0]']          \n",
      "                                8)                                                                \n",
      "                                                                                                  \n",
      " concatenate_9 (Concatenate)    (None, 256, 256, 25  0           ['sequential_22[0][0]',          \n",
      "                                6)                                'sequential_14[0][0]']          \n",
      "                                                                                                  \n",
      " sequential_23 (Sequential)     (None, 512, 512, 3)  6915        ['concatenate_9[0][0]']          \n",
      "                                                                                                  \n",
      " concatenate_10 (Concatenate)   (None, 512, 512, 6)  0           ['sequential_23[0][0]',          \n",
      "                                                                  'input_2[0][0]']                \n",
      "                                                                                                  \n",
      " conv2d_32 (Conv2D)             (None, 512, 512, 3)  75          ['concatenate_10[0][0]']         \n",
      "                                                                                                  \n",
      "==================================================================================================\n",
      "Total params: 9,602,766\n",
      "Trainable params: 9,600,206\n",
      "Non-trainable params: 2,560\n",
      "__________________________________________________________________________________________________\n"
     ]
    }
   ],
   "source": [
    "from keras import layers\n",
    "def down_level(filters , kernel_size, apply_batch_normalization = False):\n",
    "    downsample = tf.keras.models.Sequential()\n",
    "    downsample.add(layers.Conv2D(filters,kernel_size,padding = 'same', strides = 2))\n",
    "    if apply_batch_normalization:\n",
    "        downsample.add(layers.BatchNormalization())\n",
    "    downsample.add(keras.layers.LeakyReLU())\n",
    "    return downsample\n",
    "\n",
    "\n",
    "def up_level(filters, kernel_size, dropout = False):\n",
    "    upsample = tf.keras.models.Sequential()\n",
    "    upsample.add(layers.Conv2DTranspose(filters, kernel_size,padding = 'same', strides = 2))\n",
    "    if dropout:\n",
    "        upsample.dropout(0.2)\n",
    "    upsample.add(keras.layers.LeakyReLU())\n",
    "    return upsample\n",
    "\n",
    "def model():\n",
    "    inputs = layers.Input(shape= [SIZE,SIZE,3])\n",
    "    l1 = down_level(128,(3,3),False)(inputs)\n",
    "    l2 = down_level(128,(3,3),False)(l1)\n",
    "    l3 = down_level(256,(3,3),True)(l2)\n",
    "    l4 = down_level(512,(3,3),True)(l3)\n",
    "    \n",
    "    l5 = down(512,(3,3),True)(l4)\n",
    "#     d6 = down(1024,(3,3),True)(d5)\n",
    "    #upsampling\n",
    "#     u0 = up(1024,(3,3),False)(d6)\n",
    "#     u0 = layers.concatenate([u0,d5])\n",
    "    h1 = up_level(512,(3,3),False)(l5)\n",
    "    h1 = layers.concatenate([h1,l4])\n",
    "    h2 = up_level(256,(3,3),False)(h1)\n",
    "    h2 = layers.concatenate([h2,l3])\n",
    "    h3 = up_level(128,(3,3),False)(h2)\n",
    "    h3 = layers.concatenate([h3,l2])\n",
    "    h4 = up_level(128,(3,3),False)(h3)\n",
    "    h4 = layers.concatenate([h4,l1])\n",
    "    h5 = up_level(3,(3,3),False)(u4)\n",
    "    h5 = layers.concatenate([h5,inputs])\n",
    "    output = layers.Conv2D(3,(2,2),strides = 1, padding = 'same')(uh5)\n",
    "    return tf.keras.Model(inputs=inputs, outputs=output)\n",
    "\n",
    "model = model()\n",
    "model.summary()"
   ]
  },
  {
   "cell_type": "markdown",
   "id": "12877acc",
   "metadata": {},
   "source": [
    "https://www.kaggle.com/code/nirawitkanthachai/low-resolution-images-to-high-resolution"
   ]
  },
  {
   "cell_type": "code",
   "execution_count": 29,
   "id": "54c1e211",
   "metadata": {},
   "outputs": [
    {
     "name": "stdout",
     "output_type": "stream",
     "text": [
      "Epoch 1/20\n"
     ]
    },
    {
     "name": "stderr",
     "output_type": "stream",
     "text": [
      "2023-04-17 17:19:19.156801: I tensorflow/core/grappler/optimizers/custom_graph_optimizer_registry.cc:114] Plugin optimizer for device_type GPU is enabled.\n"
     ]
    },
    {
     "name": "stdout",
     "output_type": "stream",
     "text": [
      "700/700 [==============================] - ETA: 0s - loss: 0.0386 - acc: 0.6495 - PSNR: 31.3012 - SSIM: 0.8666"
     ]
    },
    {
     "name": "stderr",
     "output_type": "stream",
     "text": [
      "2023-04-17 17:20:42.959194: I tensorflow/core/grappler/optimizers/custom_graph_optimizer_registry.cc:114] Plugin optimizer for device_type GPU is enabled.\n"
     ]
    },
    {
     "name": "stdout",
     "output_type": "stream",
     "text": [
      "700/700 [==============================] - 93s 129ms/step - loss: 0.0386 - acc: 0.6495 - PSNR: 31.3012 - SSIM: 0.8666 - val_loss: 0.0256 - val_acc: 0.7292 - val_PSNR: 34.0718 - val_SSIM: 0.9258\n",
      "Epoch 2/20\n",
      "700/700 [==============================] - 89s 127ms/step - loss: 0.0217 - acc: 0.7853 - PSNR: 35.7429 - SSIM: 0.9303 - val_loss: 0.0196 - val_acc: 0.8110 - val_PSNR: 35.5403 - val_SSIM: 0.9461\n",
      "Epoch 3/20\n",
      "700/700 [==============================] - 88s 126ms/step - loss: 0.0184 - acc: 0.7992 - PSNR: 37.0852 - SSIM: 0.9501 - val_loss: 0.0164 - val_acc: 0.8438 - val_PSNR: 37.7973 - val_SSIM: 0.9527\n",
      "Epoch 4/20\n",
      "700/700 [==============================] - 88s 126ms/step - loss: 0.0155 - acc: 0.8278 - PSNR: 38.7620 - SSIM: 0.9578 - val_loss: 0.0148 - val_acc: 0.8316 - val_PSNR: 39.4523 - val_SSIM: 0.9581\n",
      "Epoch 5/20\n",
      "700/700 [==============================] - 88s 126ms/step - loss: 0.0149 - acc: 0.8297 - PSNR: 39.2518 - SSIM: 0.9598 - val_loss: 0.0145 - val_acc: 0.8944 - val_PSNR: 39.1065 - val_SSIM: 0.9594\n",
      "Epoch 6/20\n",
      "700/700 [==============================] - 88s 126ms/step - loss: 0.0144 - acc: 0.8388 - PSNR: 39.4673 - SSIM: 0.9627 - val_loss: 0.0141 - val_acc: 0.8112 - val_PSNR: 39.7997 - val_SSIM: 0.9633\n",
      "Epoch 7/20\n",
      "700/700 [==============================] - 88s 126ms/step - loss: 0.0135 - acc: 0.8470 - PSNR: 40.3390 - SSIM: 0.9643 - val_loss: 0.0128 - val_acc: 0.9144 - val_PSNR: 40.8370 - val_SSIM: 0.9648\n",
      "Epoch 8/20\n",
      "700/700 [==============================] - 88s 126ms/step - loss: 0.0133 - acc: 0.8544 - PSNR: 40.3084 - SSIM: 0.9645 - val_loss: 0.0114 - val_acc: 0.8665 - val_PSNR: 42.9278 - val_SSIM: 0.9670\n",
      "Epoch 9/20\n",
      "700/700 [==============================] - 88s 126ms/step - loss: 0.0135 - acc: 0.8523 - PSNR: 40.2768 - SSIM: 0.9651 - val_loss: 0.0124 - val_acc: 0.8374 - val_PSNR: 41.5053 - val_SSIM: 0.9652\n",
      "Epoch 10/20\n",
      "700/700 [==============================] - 89s 127ms/step - loss: 0.0127 - acc: 0.8562 - PSNR: 40.9961 - SSIM: 0.9669 - val_loss: 0.0116 - val_acc: 0.8801 - val_PSNR: 42.9416 - val_SSIM: 0.9665\n",
      "Epoch 11/20\n",
      "700/700 [==============================] - 89s 127ms/step - loss: 0.0122 - acc: 0.8592 - PSNR: 41.5253 - SSIM: 0.9678 - val_loss: 0.0119 - val_acc: 0.8745 - val_PSNR: 42.3522 - val_SSIM: 0.9655\n",
      "Epoch 12/20\n",
      "700/700 [==============================] - 88s 126ms/step - loss: 0.0121 - acc: 0.8618 - PSNR: 41.4386 - SSIM: 0.9687 - val_loss: 0.0118 - val_acc: 0.8624 - val_PSNR: 42.3598 - val_SSIM: 0.9662\n",
      "Epoch 13/20\n",
      "700/700 [==============================] - 89s 127ms/step - loss: 0.0120 - acc: 0.8582 - PSNR: 41.4221 - SSIM: 0.9692 - val_loss: 0.0113 - val_acc: 0.8579 - val_PSNR: 43.0258 - val_SSIM: 0.9680\n",
      "Epoch 14/20\n",
      "700/700 [==============================] - 89s 126ms/step - loss: 0.0115 - acc: 0.8707 - PSNR: 42.2178 - SSIM: 0.9700 - val_loss: 0.0127 - val_acc: 0.8598 - val_PSNR: 41.0737 - val_SSIM: 0.9647\n",
      "Epoch 15/20\n",
      "700/700 [==============================] - 89s 126ms/step - loss: 0.0113 - acc: 0.8694 - PSNR: 42.1657 - SSIM: 0.9712 - val_loss: 0.0109 - val_acc: 0.8655 - val_PSNR: 43.8217 - val_SSIM: 0.9684\n",
      "Epoch 16/20\n",
      "700/700 [==============================] - 88s 126ms/step - loss: 0.0112 - acc: 0.8605 - PSNR: 42.1864 - SSIM: 0.9718 - val_loss: 0.0118 - val_acc: 0.8629 - val_PSNR: 41.8895 - val_SSIM: 0.9660\n",
      "Epoch 17/20\n",
      "700/700 [==============================] - 88s 126ms/step - loss: 0.0108 - acc: 0.8649 - PSNR: 42.3853 - SSIM: 0.9727 - val_loss: 0.0113 - val_acc: 0.9115 - val_PSNR: 43.0962 - val_SSIM: 0.9671\n",
      "Epoch 18/20\n",
      "700/700 [==============================] - 89s 126ms/step - loss: 0.0106 - acc: 0.8720 - PSNR: 42.6720 - SSIM: 0.9740 - val_loss: 0.0128 - val_acc: 0.8277 - val_PSNR: 40.3471 - val_SSIM: 0.9675\n",
      "Epoch 19/20\n",
      "700/700 [==============================] - 89s 126ms/step - loss: 0.0103 - acc: 0.8695 - PSNR: 43.0076 - SSIM: 0.9748 - val_loss: 0.0119 - val_acc: 0.8821 - val_PSNR: 42.4247 - val_SSIM: 0.9668\n",
      "Epoch 20/20\n",
      "700/700 [==============================] - 88s 126ms/step - loss: 0.0103 - acc: 0.8768 - PSNR: 42.8156 - SSIM: 0.9754 - val_loss: 0.0109 - val_acc: 0.8611 - val_PSNR: 44.1397 - val_SSIM: 0.9679\n"
     ]
    }
   ],
   "source": [
    "model.compile(optimizer = tf.keras.optimizers.Adam(learning_rate = 0.001), loss = 'mean_absolute_error',\n",
    "              metrics = ['acc',PSNR, SSIM])\n",
    "earlystop_callback = tf.keras.callbacks.EarlyStopping(monitor='loss', patience=20)\n",
    "history = model.fit(train_low_image, train_high_image, epochs = 20, batch_size = 1,callbacks=[earlystop_callback],\n",
    "          validation_data = (validation_low_image,validation_high_image))"
   ]
  },
  {
   "cell_type": "code",
   "execution_count": 32,
   "id": "e8507cd1",
   "metadata": {},
   "outputs": [
    {
     "data": {
      "image/png": "[encoded data removed]",
      "text/plain": [
       "<Figure size 640x480 with 1 Axes>"
      ]
     },
     "metadata": {},
     "output_type": "display_data"
    }
   ],
   "source": [
    "import matplotlib.pyplot as plt \n",
    "plt.plot(history.epoch, history.history[\"PSNR\"], 'g', label='Training loss')\n",
    "plt.title('Training loss')\n",
    "plt.xlabel('Epochs')\n",
    "plt.ylabel('Loss')\n",
    "plt.legend()\n",
    "plt.show()"
   ]
  },
  {
   "cell_type": "markdown",
   "id": "b0412367",
   "metadata": {},
   "source": [
    "## Testing on a single image"
   ]
  },
  {
   "cell_type": "code",
   "execution_count": null,
   "id": "6ccb7e3d",
   "metadata": {},
   "outputs": [],
   "source": [
    "img = cv2.imread(r'test6.jpg',1)\n",
    "\n",
    " #resizing image\n",
    "img = cv2.cvtColor(img, cv2.COLOR_BGR2RGB)\n",
    "img = cv2.resize(img, (SIZE, SIZE))\n",
    "img = img.astype('float32') / 255.0\n",
    "\n",
    "\n",
    "predicted = np.clip(model.predict(img.reshape(1,SIZE, SIZE,3)),0.0,1.0).reshape(SIZE, SIZE,3)\n",
    "predicted = cv2.cvtColor(predicted, cv2.COLOR_BGR2RGB)\n",
    "plot_images(img,img,predicted)"
   ]
  },
  {
   "cell_type": "markdown",
   "id": "47222fff",
   "metadata": {},
   "source": [
    "## Pickling model and saving history"
   ]
  },
  {
   "cell_type": "code",
   "execution_count": 33,
   "id": "d57ffaa4",
   "metadata": {},
   "outputs": [],
   "source": [
    "model.save(\"final_model_psnr_512-val.h5\")\n",
    "import pickle \n",
    "\n",
    "with open('final_model_concate_512-val.pkl','wb') as handle:\n",
    "    pickle.dump(history.history,handle)"
   ]
  },
  {
   "cell_type": "markdown",
   "id": "eba5a731",
   "metadata": {},
   "source": [
    "# Models - Unet"
   ]
  },
  {
   "cell_type": "code",
   "execution_count": 34,
   "id": "9a780e0f",
   "metadata": {},
   "outputs": [],
   "source": [
    "def conv(input, num_filters):\n",
    "    x = Conv2D(num_filters, 3, padding=\"same\")(input)\n",
    "    x = BatchNormalization()(x)\n",
    "    x = Activation(\"relu\")(x)\n",
    "    x = Conv2D(num_filters, 3, padding=\"same\")(x)\n",
    "    x = BatchNormalization()(x)\n",
    "    x = Activation(\"relu\")(x)\n",
    "    return x\n",
    "def encoder(input, num_filters):\n",
    "    x = conv(input, num_filters)\n",
    "    p = MaxPool2D((2, 2))(x)\n",
    "    return x, p\n",
    "def decoder(input, skip_features, num_filters):\n",
    "    x = Conv2DTranspose(num_filters, (2, 2), strides=2, padding=\"same\")(input)\n",
    "    x = Concatenate()([x, skip_features])\n",
    "    x = conv(x, num_filters)\n",
    "    return x\n",
    "def build_unet(input_shape):\n",
    "    inputs = Input(input_shape)\n",
    "    s1, p1 = encoder(inputs, 64)\n",
    "    s2, p2 = encoder(p1, 128)\n",
    "    s3, p3 = encoder(p2, 256)\n",
    "    s4, p4 = encoder(p3, 512)\n",
    "    b1 = conv(p4, 1024)\n",
    "    d1 = decoder(b1, s4, 512)\n",
    "    d2 = decoder(d1, s3, 256)\n",
    "    d3 = decoder(d2, s2, 128)\n",
    "    d4 = decoder(d3, s1, 64)\n",
    "\n",
    "\n",
    "    outputs = Conv2D(3, 3, padding=\"same\", activation=\"sigmoid\")(d4)\n",
    "\n",
    "    model = Model(inputs, outputs, name=\"U-Net\")\n",
    "    return model"
   ]
  },
  {
   "cell_type": "markdown",
   "id": "fc14ef94",
   "metadata": {},
   "source": [
    "https://idiotdeveloper.com/unet-implementation-in-tensorflow-using-keras-api/"
   ]
  },
  {
   "cell_type": "code",
   "execution_count": 35,
   "id": "7d35438a",
   "metadata": {},
   "outputs": [],
   "source": [
    "model = build_unet((512, 512, 3))"
   ]
  },
  {
   "cell_type": "code",
   "execution_count": 8,
   "id": "64dc11a5",
   "metadata": {},
   "outputs": [
    {
     "name": "stdout",
     "output_type": "stream",
     "text": [
      "Model: \"U-Net\"\n",
      "__________________________________________________________________________________________________\n",
      " Layer (type)                   Output Shape         Param #     Connected to                     \n",
      "==================================================================================================\n",
      " input_1 (InputLayer)           [(None, 512, 512, 3  0           []                               \n",
      "                                )]                                                                \n",
      "                                                                                                  \n",
      " conv2d (Conv2D)                (None, 512, 512, 64  1792        ['input_1[0][0]']                \n",
      "                                )                                                                 \n",
      "                                                                                                  \n",
      " batch_normalization (BatchNorm  (None, 512, 512, 64  256        ['conv2d[0][0]']                 \n",
      " alization)                     )                                                                 \n",
      "                                                                                                  \n",
      " activation (Activation)        (None, 512, 512, 64  0           ['batch_normalization[0][0]']    \n",
      "                                )                                                                 \n",
      "                                                                                                  \n",
      " conv2d_1 (Conv2D)              (None, 512, 512, 64  36928       ['activation[0][0]']             \n",
      "                                )                                                                 \n",
      "                                                                                                  \n",
      " batch_normalization_1 (BatchNo  (None, 512, 512, 64  256        ['conv2d_1[0][0]']               \n",
      " rmalization)                   )                                                                 \n",
      "                                                                                                  \n",
      " activation_1 (Activation)      (None, 512, 512, 64  0           ['batch_normalization_1[0][0]']  \n",
      "                                )                                                                 \n",
      "                                                                                                  \n",
      " max_pooling2d (MaxPooling2D)   (None, 256, 256, 64  0           ['activation_1[0][0]']           \n",
      "                                )                                                                 \n",
      "                                                                                                  \n",
      " conv2d_2 (Conv2D)              (None, 256, 256, 12  73856       ['max_pooling2d[0][0]']          \n",
      "                                8)                                                                \n",
      "                                                                                                  \n",
      " batch_normalization_2 (BatchNo  (None, 256, 256, 12  512        ['conv2d_2[0][0]']               \n",
      " rmalization)                   8)                                                                \n",
      "                                                                                                  \n",
      " activation_2 (Activation)      (None, 256, 256, 12  0           ['batch_normalization_2[0][0]']  \n",
      "                                8)                                                                \n",
      "                                                                                                  \n",
      " conv2d_3 (Conv2D)              (None, 256, 256, 12  147584      ['activation_2[0][0]']           \n",
      "                                8)                                                                \n",
      "                                                                                                  \n",
      " batch_normalization_3 (BatchNo  (None, 256, 256, 12  512        ['conv2d_3[0][0]']               \n",
      " rmalization)                   8)                                                                \n",
      "                                                                                                  \n",
      " activation_3 (Activation)      (None, 256, 256, 12  0           ['batch_normalization_3[0][0]']  \n",
      "                                8)                                                                \n",
      "                                                                                                  \n",
      " max_pooling2d_1 (MaxPooling2D)  (None, 128, 128, 12  0          ['activation_3[0][0]']           \n",
      "                                8)                                                                \n",
      "                                                                                                  \n",
      " conv2d_4 (Conv2D)              (None, 128, 128, 25  295168      ['max_pooling2d_1[0][0]']        \n",
      "                                6)                                                                \n",
      "                                                                                                  \n",
      " batch_normalization_4 (BatchNo  (None, 128, 128, 25  1024       ['conv2d_4[0][0]']               \n",
      " rmalization)                   6)                                                                \n",
      "                                                                                                  \n",
      " activation_4 (Activation)      (None, 128, 128, 25  0           ['batch_normalization_4[0][0]']  \n",
      "                                6)                                                                \n",
      "                                                                                                  \n",
      " conv2d_5 (Conv2D)              (None, 128, 128, 25  590080      ['activation_4[0][0]']           \n",
      "                                6)                                                                \n",
      "                                                                                                  \n",
      " batch_normalization_5 (BatchNo  (None, 128, 128, 25  1024       ['conv2d_5[0][0]']               \n",
      " rmalization)                   6)                                                                \n",
      "                                                                                                  \n",
      " activation_5 (Activation)      (None, 128, 128, 25  0           ['batch_normalization_5[0][0]']  \n",
      "                                6)                                                                \n",
      "                                                                                                  \n",
      " max_pooling2d_2 (MaxPooling2D)  (None, 64, 64, 256)  0          ['activation_5[0][0]']           \n",
      "                                                                                                  \n",
      " conv2d_6 (Conv2D)              (None, 64, 64, 512)  1180160     ['max_pooling2d_2[0][0]']        \n",
      "                                                                                                  \n",
      " batch_normalization_6 (BatchNo  (None, 64, 64, 512)  2048       ['conv2d_6[0][0]']               \n",
      " rmalization)                                                                                     \n",
      "                                                                                                  \n",
      " activation_6 (Activation)      (None, 64, 64, 512)  0           ['batch_normalization_6[0][0]']  \n",
      "                                                                                                  \n",
      " conv2d_7 (Conv2D)              (None, 64, 64, 512)  2359808     ['activation_6[0][0]']           \n",
      "                                                                                                  \n",
      " batch_normalization_7 (BatchNo  (None, 64, 64, 512)  2048       ['conv2d_7[0][0]']               \n",
      " rmalization)                                                                                     \n",
      "                                                                                                  \n",
      " activation_7 (Activation)      (None, 64, 64, 512)  0           ['batch_normalization_7[0][0]']  \n",
      "                                                                                                  \n",
      " max_pooling2d_3 (MaxPooling2D)  (None, 32, 32, 512)  0          ['activation_7[0][0]']           \n"
     ]
    },
    {
     "name": "stdout",
     "output_type": "stream",
     "text": [
      "                                                                                                  \n",
      " conv2d_8 (Conv2D)              (None, 32, 32, 1024  4719616     ['max_pooling2d_3[0][0]']        \n",
      "                                )                                                                 \n",
      "                                                                                                  \n",
      " batch_normalization_8 (BatchNo  (None, 32, 32, 1024  4096       ['conv2d_8[0][0]']               \n",
      " rmalization)                   )                                                                 \n",
      "                                                                                                  \n",
      " activation_8 (Activation)      (None, 32, 32, 1024  0           ['batch_normalization_8[0][0]']  \n",
      "                                )                                                                 \n",
      "                                                                                                  \n",
      " conv2d_9 (Conv2D)              (None, 32, 32, 1024  9438208     ['activation_8[0][0]']           \n",
      "                                )                                                                 \n",
      "                                                                                                  \n",
      " batch_normalization_9 (BatchNo  (None, 32, 32, 1024  4096       ['conv2d_9[0][0]']               \n",
      " rmalization)                   )                                                                 \n",
      "                                                                                                  \n",
      " activation_9 (Activation)      (None, 32, 32, 1024  0           ['batch_normalization_9[0][0]']  \n",
      "                                )                                                                 \n",
      "                                                                                                  \n",
      " conv2d_transpose (Conv2DTransp  (None, 64, 64, 512)  2097664    ['activation_9[0][0]']           \n",
      " ose)                                                                                             \n",
      "                                                                                                  \n",
      " concatenate (Concatenate)      (None, 64, 64, 1024  0           ['conv2d_transpose[0][0]',       \n",
      "                                )                                 'activation_7[0][0]']           \n",
      "                                                                                                  \n",
      " conv2d_10 (Conv2D)             (None, 64, 64, 512)  4719104     ['concatenate[0][0]']            \n",
      "                                                                                                  \n",
      " batch_normalization_10 (BatchN  (None, 64, 64, 512)  2048       ['conv2d_10[0][0]']              \n",
      " ormalization)                                                                                    \n",
      "                                                                                                  \n",
      " activation_10 (Activation)     (None, 64, 64, 512)  0           ['batch_normalization_10[0][0]'] \n",
      "                                                                                                  \n",
      " conv2d_11 (Conv2D)             (None, 64, 64, 512)  2359808     ['activation_10[0][0]']          \n",
      "                                                                                                  \n",
      " batch_normalization_11 (BatchN  (None, 64, 64, 512)  2048       ['conv2d_11[0][0]']              \n",
      " ormalization)                                                                                    \n",
      "                                                                                                  \n",
      " activation_11 (Activation)     (None, 64, 64, 512)  0           ['batch_normalization_11[0][0]'] \n",
      "                                                                                                  \n",
      " conv2d_transpose_1 (Conv2DTran  (None, 128, 128, 25  524544     ['activation_11[0][0]']          \n",
      " spose)                         6)                                                                \n",
      "                                                                                                  \n",
      " concatenate_1 (Concatenate)    (None, 128, 128, 51  0           ['conv2d_transpose_1[0][0]',     \n",
      "                                2)                                'activation_5[0][0]']           \n",
      "                                                                                                  \n",
      " conv2d_12 (Conv2D)             (None, 128, 128, 25  1179904     ['concatenate_1[0][0]']          \n",
      "                                6)                                                                \n",
      "                                                                                                  \n",
      " batch_normalization_12 (BatchN  (None, 128, 128, 25  1024       ['conv2d_12[0][0]']              \n",
      " ormalization)                  6)                                                                \n",
      "                                                                                                  \n",
      " activation_12 (Activation)     (None, 128, 128, 25  0           ['batch_normalization_12[0][0]'] \n",
      "                                6)                                                                \n",
      "                                                                                                  \n",
      " conv2d_13 (Conv2D)             (None, 128, 128, 25  590080      ['activation_12[0][0]']          \n",
      "                                6)                                                                \n",
      "                                                                                                  \n",
      " batch_normalization_13 (BatchN  (None, 128, 128, 25  1024       ['conv2d_13[0][0]']              \n",
      " ormalization)                  6)                                                                \n",
      "                                                                                                  \n",
      " activation_13 (Activation)     (None, 128, 128, 25  0           ['batch_normalization_13[0][0]'] \n",
      "                                6)                                                                \n",
      "                                                                                                  \n",
      " conv2d_transpose_2 (Conv2DTran  (None, 256, 256, 12  131200     ['activation_13[0][0]']          \n",
      " spose)                         8)                                                                \n",
      "                                                                                                  \n",
      " concatenate_2 (Concatenate)    (None, 256, 256, 25  0           ['conv2d_transpose_2[0][0]',     \n",
      "                                6)                                'activation_3[0][0]']           \n",
      "                                                                                                  \n",
      " conv2d_14 (Conv2D)             (None, 256, 256, 12  295040      ['concatenate_2[0][0]']          \n",
      "                                8)                                                                \n",
      "                                                                                                  \n",
      " batch_normalization_14 (BatchN  (None, 256, 256, 12  512        ['conv2d_14[0][0]']              \n",
      " ormalization)                  8)                                                                \n",
      "                                                                                                  \n",
      " activation_14 (Activation)     (None, 256, 256, 12  0           ['batch_normalization_14[0][0]'] \n",
      "                                8)                                                                \n",
      "                                                                                                  \n",
      " conv2d_15 (Conv2D)             (None, 256, 256, 12  147584      ['activation_14[0][0]']          \n",
      "                                8)                                                                \n",
      "                                                                                                  \n",
      " batch_normalization_15 (BatchN  (None, 256, 256, 12  512        ['conv2d_15[0][0]']              \n",
      " ormalization)                  8)                                                                \n"
     ]
    },
    {
     "name": "stdout",
     "output_type": "stream",
     "text": [
      "                                                                                                  \n",
      " activation_15 (Activation)     (None, 256, 256, 12  0           ['batch_normalization_15[0][0]'] \n",
      "                                8)                                                                \n",
      "                                                                                                  \n",
      " conv2d_transpose_3 (Conv2DTran  (None, 512, 512, 64  32832      ['activation_15[0][0]']          \n",
      " spose)                         )                                                                 \n",
      "                                                                                                  \n",
      " concatenate_3 (Concatenate)    (None, 512, 512, 12  0           ['conv2d_transpose_3[0][0]',     \n",
      "                                8)                                'activation_1[0][0]']           \n",
      "                                                                                                  \n",
      " conv2d_16 (Conv2D)             (None, 512, 512, 64  73792       ['concatenate_3[0][0]']          \n",
      "                                )                                                                 \n",
      "                                                                                                  \n",
      " batch_normalization_16 (BatchN  (None, 512, 512, 64  256        ['conv2d_16[0][0]']              \n",
      " ormalization)                  )                                                                 \n",
      "                                                                                                  \n",
      " activation_16 (Activation)     (None, 512, 512, 64  0           ['batch_normalization_16[0][0]'] \n",
      "                                )                                                                 \n",
      "                                                                                                  \n",
      " conv2d_17 (Conv2D)             (None, 512, 512, 64  36928       ['activation_16[0][0]']          \n",
      "                                )                                                                 \n",
      "                                                                                                  \n",
      " batch_normalization_17 (BatchN  (None, 512, 512, 64  256        ['conv2d_17[0][0]']              \n",
      " ormalization)                  )                                                                 \n",
      "                                                                                                  \n",
      " activation_17 (Activation)     (None, 512, 512, 64  0           ['batch_normalization_17[0][0]'] \n",
      "                                )                                                                 \n",
      "                                                                                                  \n",
      " conv2d_18 (Conv2D)             (None, 512, 512, 3)  1731        ['activation_17[0][0]']          \n",
      "                                                                                                  \n",
      "==================================================================================================\n",
      "Total params: 31,056,963\n",
      "Trainable params: 31,045,187\n",
      "Non-trainable params: 11,776\n",
      "__________________________________________________________________________________________________\n"
     ]
    }
   ],
   "source": [
    "model.summary()"
   ]
  },
  {
   "cell_type": "code",
   "execution_count": 37,
   "id": "6c09dabe",
   "metadata": {},
   "outputs": [
    {
     "name": "stdout",
     "output_type": "stream",
     "text": [
      "Epoch 1/20\n"
     ]
    },
    {
     "name": "stderr",
     "output_type": "stream",
     "text": [
      "2023-04-17 17:49:58.058119: I tensorflow/core/grappler/optimizers/custom_graph_optimizer_registry.cc:114] Plugin optimizer for device_type GPU is enabled.\n"
     ]
    },
    {
     "name": "stdout",
     "output_type": "stream",
     "text": [
      "88/88 [==============================] - ETA: 0s - loss: 0.0718 - acc: 0.6217 - PSNR: 24.4548 - SSIM: 0.8299"
     ]
    },
    {
     "name": "stderr",
     "output_type": "stream",
     "text": [
      "2023-04-17 17:55:15.992176: I tensorflow/core/grappler/optimizers/custom_graph_optimizer_registry.cc:114] Plugin optimizer for device_type GPU is enabled.\n"
     ]
    },
    {
     "name": "stdout",
     "output_type": "stream",
     "text": [
      "88/88 [==============================] - 338s 4s/step - loss: 0.0718 - acc: 0.6217 - PSNR: 24.4548 - SSIM: 0.8299 - val_loss: 0.3873 - val_acc: 0.2943 - val_PSNR: 8.5912 - val_SSIM: 0.1916\n",
      "Epoch 2/20\n",
      "88/88 [==============================] - 337s 4s/step - loss: 0.0617 - acc: 0.6849 - PSNR: 25.7077 - SSIM: 0.8745 - val_loss: 0.1877 - val_acc: 0.4687 - val_PSNR: 15.6282 - val_SSIM: 0.6727\n",
      "Epoch 3/20\n",
      "88/88 [==============================] - 327s 4s/step - loss: 0.0606 - acc: 0.6869 - PSNR: 25.8678 - SSIM: 0.8840 - val_loss: 0.1484 - val_acc: 0.6314 - val_PSNR: 17.8022 - val_SSIM: 0.7336\n",
      "Epoch 4/20\n",
      "88/88 [==============================] - 329s 4s/step - loss: 0.0532 - acc: 0.6877 - PSNR: 26.8409 - SSIM: 0.8986 - val_loss: 0.1005 - val_acc: 0.6415 - val_PSNR: 21.5726 - val_SSIM: 0.7844\n",
      "Epoch 5/20\n",
      "88/88 [==============================] - 336s 4s/step - loss: 0.0553 - acc: 0.6999 - PSNR: 26.7540 - SSIM: 0.8982 - val_loss: 0.0873 - val_acc: 0.6644 - val_PSNR: 23.3583 - val_SSIM: 0.7822\n",
      "Epoch 6/20\n",
      "88/88 [==============================] - 333s 4s/step - loss: 0.0535 - acc: 0.6836 - PSNR: inf - SSIM: 0.9029 - val_loss: 0.0794 - val_acc: 0.6883 - val_PSNR: inf - val_SSIM: 0.8857\n",
      "Epoch 7/20\n",
      "88/88 [==============================] - 329s 4s/step - loss: 0.0533 - acc: 0.6914 - PSNR: inf - SSIM: 0.9043 - val_loss: 0.0487 - val_acc: 0.6831 - val_PSNR: inf - val_SSIM: 0.8933\n",
      "Epoch 8/20\n",
      "88/88 [==============================] - 327s 4s/step - loss: 0.0489 - acc: 0.7085 - PSNR: inf - SSIM: 0.9063 - val_loss: 0.1907 - val_acc: 0.6226 - val_PSNR: inf - val_SSIM: 0.7581\n",
      "Epoch 9/20\n",
      "88/88 [==============================] - 325s 4s/step - loss: 0.0497 - acc: 0.7061 - PSNR: inf - SSIM: 0.9066 - val_loss: 0.0431 - val_acc: 0.7755 - val_PSNR: inf - val_SSIM: 0.9250\n",
      "Epoch 10/20\n",
      "88/88 [==============================] - 325s 4s/step - loss: 0.0480 - acc: 0.7063 - PSNR: inf - SSIM: 0.9050 - val_loss: 0.0683 - val_acc: 0.6418 - val_PSNR: inf - val_SSIM: 0.8534\n",
      "Epoch 11/20\n",
      "88/88 [==============================] - 329s 4s/step - loss: 0.0423 - acc: 0.7324 - PSNR: inf - SSIM: 0.9125 - val_loss: 0.3336 - val_acc: 0.6265 - val_PSNR: inf - val_SSIM: 0.6207\n",
      "Epoch 12/20\n",
      "88/88 [==============================] - 326s 4s/step - loss: 0.0412 - acc: 0.7272 - PSNR: inf - SSIM: 0.9133 - val_loss: 0.0425 - val_acc: 0.7156 - val_PSNR: 29.0950 - val_SSIM: 0.9189\n",
      "Epoch 13/20\n",
      "88/88 [==============================] - 326s 4s/step - loss: 0.0396 - acc: 0.7342 - PSNR: inf - SSIM: 0.9187 - val_loss: 0.0364 - val_acc: 0.7618 - val_PSNR: 29.5799 - val_SSIM: 0.9315\n",
      "Epoch 14/20\n",
      "88/88 [==============================] - 325s 4s/step - loss: 0.0399 - acc: 0.7253 - PSNR: inf - SSIM: 0.9140 - val_loss: 0.0338 - val_acc: 0.7236 - val_PSNR: inf - val_SSIM: 0.9224\n",
      "Epoch 15/20\n",
      "88/88 [==============================] - 325s 4s/step - loss: 0.0408 - acc: 0.7132 - PSNR: inf - SSIM: 0.9170 - val_loss: 0.0431 - val_acc: 0.7046 - val_PSNR: inf - val_SSIM: 0.9001\n",
      "Epoch 16/20\n",
      "88/88 [==============================] - 324s 4s/step - loss: 0.0403 - acc: 0.7284 - PSNR: inf - SSIM: 0.9143 - val_loss: 0.0319 - val_acc: 0.7980 - val_PSNR: 32.0435 - val_SSIM: 0.9075\n",
      "Epoch 17/20\n",
      "88/88 [==============================] - 326s 4s/step - loss: 0.0393 - acc: 0.7208 - PSNR: inf - SSIM: 0.9169 - val_loss: 0.0341 - val_acc: 0.7551 - val_PSNR: 31.0621 - val_SSIM: 0.9289\n",
      "Epoch 18/20\n",
      "88/88 [==============================] - 327s 4s/step - loss: 0.0354 - acc: 0.7392 - PSNR: inf - SSIM: 0.9210 - val_loss: 0.0424 - val_acc: 0.8113 - val_PSNR: inf - val_SSIM: 0.9165\n",
      "Epoch 19/20\n",
      "88/88 [==============================] - 329s 4s/step - loss: 0.0356 - acc: 0.7405 - PSNR: inf - SSIM: 0.9221 - val_loss: 0.0239 - val_acc: 0.7625 - val_PSNR: inf - val_SSIM: 0.9314\n",
      "Epoch 20/20\n",
      "88/88 [==============================] - 325s 4s/step - loss: 0.0373 - acc: 0.7333 - PSNR: inf - SSIM: 0.9230 - val_loss: 0.0378 - val_acc: 0.6878 - val_PSNR: 29.7125 - val_SSIM: 0.9282\n"
     ]
    }
   ],
   "source": [
    "model.compile(optimizer = tf.keras.optimizers.Adam(learning_rate = 0.001), loss = 'mean_absolute_error',\n",
    "              metrics = ['acc',PSNR, SSIM])\n",
    "earlystop_callback = tf.keras.callbacks.EarlyStopping(monitor='loss', patience=20)\n",
    "history = model.fit(train_low_image, train_high_image, epochs = 20, batch_size = 8,callbacks=[earlystop_callback],\n",
    "          validation_data = (validation_low_image,validation_high_image))"
   ]
  },
  {
   "cell_type": "code",
   "execution_count": null,
   "id": "8239e59f",
   "metadata": {},
   "outputs": [],
   "source": [
    "for i in range(1,10):\n",
    "    \n",
    "    predicted = np.clip(model.predict(test_low_image[i].reshape(1,SIZE, SIZE,3)),0.0,1.0).reshape(SIZE, SIZE,3)\n",
    "    test_low_image[i] = cv2.cvtColor(test_low_image[i], cv2.COLOR_BGR2RGB)\n",
    "    plot_images(test_high_image[i],test_low_image[i],predicted)"
   ]
  },
  {
   "cell_type": "markdown",
   "id": "5e83db91",
   "metadata": {},
   "source": [
    "## Testing on a single image"
   ]
  },
  {
   "cell_type": "code",
   "execution_count": null,
   "id": "5e221257",
   "metadata": {},
   "outputs": [],
   "source": [
    "img = cv2.imread('woman.png',1)\n",
    "#img = img[:96,:96,:]\n",
    "print(img.shape)\n",
    "\n",
    "        #resizing image\n",
    "img = cv2.resize(img, (SIZE, SIZE))\n",
    "img = img.astype('float32') / 255.0\n",
    "img = cv2.cvtColor(img, cv2.COLOR_BGR2RGB)\n",
    "predicted = np.clip(model.predict(img.reshape(1,SIZE, SIZE,3)),0.0,1.0).reshape(SIZE, SIZE,3)\n",
    "predicted = cv2.cvtColor(predicted, cv2.COLOR_BGR2RGB)\n",
    "\n",
    "plot_images(img,img,predicted)"
   ]
  },
  {
   "cell_type": "markdown",
   "id": "ba674872",
   "metadata": {},
   "source": [
    "## Pickling the model and history"
   ]
  },
  {
   "cell_type": "code",
   "execution_count": 39,
   "id": "bd38c20a",
   "metadata": {},
   "outputs": [],
   "source": [
    "model.save(\"unet-val.h5\")\n",
    "import pickle \n",
    "\n",
    "with open('unet-val.pkl','wb') as handle:\n",
    "    pickle.dump(history.history,handle)"
   ]
  }
 ],
 "metadata": {
  "kernelspec": {
   "display_name": "Python 3 (ipykernel)",
   "language": "python",
   "name": "python3"
  },
  "language_info": {
   "codemirror_mode": {
    "name": "ipython",
    "version": 3
   },
   "file_extension": ".py",
   "mimetype": "text/x-python",
   "name": "python",
   "nbconvert_exporter": "python",
   "pygments_lexer": "ipython3",
   "version": "3.9.6"
  }
 },
 "nbformat": 4,
 "nbformat_minor": 5
}
